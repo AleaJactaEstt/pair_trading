{
 "cells": [
  {
   "cell_type": "code",
   "execution_count": 1,
   "metadata": {},
   "outputs": [],
   "source": [
    "from __future__ import (absolute_import, division, print_function,\n",
    "                        unicode_literals)\n",
    "\n",
    "from sklearn.linear_model import LinearRegression\n",
    "\n",
    "import backtrader as bt\n",
    "import pandas as pd \n",
    "import backtrader.feeds as btfeed\n",
    "import statsmodels.tsa.stattools as ts\n",
    "\n",
    "\n",
    "import os.path\n",
    "import sys\n",
    "\n",
    "import datetime\n",
    "\n",
    "import matplotlib.pyplot as plt"
   ]
  },
  {
   "cell_type": "code",
   "execution_count": null,
   "metadata": {},
   "outputs": [],
   "source": [
    "class Strategy(bt.Strategy):\n",
    "\n",
    "    def log(self, txt, dt=None):\n",
    "        ''' Logging function fot this strategy'''\n",
    "        dt = dt or self.datas[0].datetime.date(0)\n",
    "        print('%s, %s' % (dt.isoformat(), txt))\n",
    "\n",
    "    def __init__(self):\n",
    "        # Keep a reference to the \"close\" line in the data[0] dataseries\n",
    "        self.dataclose = self.datas[0].close\n",
    "\n",
    "        # To keep track of pending orders\n",
    "        self.order = None\n",
    "\n",
    "    def notify_order(self, order):\n",
    "        if order.status in [order.Submitted, order.Accepted]:\n",
    "            # Buy/Sell order submitted/accepted to/by broker - Nothing to do\n",
    "            return\n",
    "\n",
    "        # Check if an order has been completed\n",
    "        # Attention: broker could reject order if not enough cash\n",
    "        if order.status in [order.Completed]:\n",
    "            if order.isbuy():\n",
    "                self.log('BUY EXECUTED, %.2f' % order.executed.price)\n",
    "            elif order.issell():\n",
    "                self.log('SELL EXECUTED, %.2f' % order.executed.price)\n",
    "\n",
    "            self.bar_executed = len(self)\n",
    "\n",
    "        elif order.status in [order.Canceled, order.Margin, order.Rejected]:\n",
    "            self.log('Order Canceled/Margin/Rejected')\n",
    "\n",
    "        # Write down: no pending order\n",
    "        self.order = None\n",
    "\n",
    "    def next(self):\n",
    "        # Simply log the closing price of the series from the reference\n",
    "        self.log('Close, %.2f' % self.dataclose[0])\n",
    "\n",
    "        # Check if an order is pending ... if yes, we cannot send a 2nd one\n",
    "        if self.order:\n",
    "            return\n",
    "\n",
    "        # Check if we are in the market\n",
    "        if not self.position:\n",
    "\n",
    "            # Not yet ... we MIGHT BUY if ...\n",
    "            if self.dataclose[0] < self.dataclose[-1]:\n",
    "                    # current close less than previous close\n",
    "\n",
    "                    if self.dataclose[-1] < self.dataclose[-2]:\n",
    "                        # previous close less than the previous close\n",
    "\n",
    "                        # BUY, BUY, BUY!!! (with default parameters)\n",
    "                        self.log('BUY CREATE, %.2f' % self.dataclose[0])\n",
    "\n",
    "                        # Keep track of the created order to avoid a 2nd order\n",
    "                        self.order = self.buy()\n",
    "\n",
    "        else:\n",
    "\n",
    "            # Already in the market ... we might sell\n",
    "            if len(self) >= (self.bar_executed + 5):\n",
    "                # SELL, SELL, SELL!!! (with all possible default parameters)\n",
    "                self.log('SELL CREATE, %.2f' % self.dataclose[0])\n",
    "\n",
    "                # Keep track of the created order to avoid a 2nd order\n",
    "                self.order = self.sell()\n",
    "\n",
    "                \n",
    "class dataFeed(btfeed.GenericCSVData):\n",
    "    params = (\n",
    "        ('dtformat', '%Y%m%d'),\n",
    "        ('tmformat', '%H%M%S'),\n",
    "        ('datetime', 0),\n",
    "        ('time', 1),\n",
    "        ('open', 2),\n",
    "        ('high', 3),\n",
    "        ('low', 4),\n",
    "        ('close', 5),\n",
    "        ('volume', 6),\n",
    "        ('openinterest', -1),\n",
    "    )\n",
    "    \n",
    "cerebro = bt.Cerebro()\n",
    "\n",
    "#datas path\n",
    "\n",
    "datapath1 = 'C:\\\\Users\\\\Senya\\\\Trading\\\\SBER_180801_190119.csv'\n",
    "datapath2 = 'C:\\\\Users\\\\Senya\\\\Trading\\\\SBERP_180801_190119.csv'\n",
    "\n",
    "\n",
    "data1 = dataFeed(dataname=datapath1)\n",
    "data2 = dataFeed(dataname=datapath2)\n",
    "\n",
    "cerebro.adddata(data1, name=\"comm\")\n",
    "cerebro.adddata(data2, name=\"pref\")\n",
    "\n",
    "cerebro.addstrategy(Strategy)\n",
    "####\n",
    "#Broker\n",
    "cerebro.broker.setcash(100000.0)\n",
    "cerebro.broker.setcomission(comission=2, margin=True)"
   ]
  },
  {
   "cell_type": "code",
   "execution_count": null,
   "metadata": {},
   "outputs": [],
   "source": [
    "print('Starting Portfolio Value: %.2f' % cerebro.broker.getvalue())\n",
    "\n",
    "# Run over everything\n",
    "cerebro.run()\n",
    "\n",
    "# Print out the final result\n",
    "print('Final Portfolio Value: %.2f' % cerebro.broker.getvalue())\n"
   ]
  },
  {
   "cell_type": "code",
   "execution_count": null,
   "metadata": {},
   "outputs": [],
   "source": [
    "cerebro.plot()"
   ]
  },
  {
   "cell_type": "code",
   "execution_count": 2,
   "metadata": {},
   "outputs": [],
   "source": [
    "#common stocks preprocessing\n",
    "df_common = pd.read_csv('SBER_180801_190119_h.csv')\n",
    "\n",
    "df_common.rename(columns={'<DATE>':'DATE', '<TIME>': 'TIME'}, inplace=True)\n",
    "df_common.TIME = df_common.TIME.astype(str)\n",
    "df_common.DATE = df_common.DATE.astype(str)\n",
    "\n",
    "df_common['DATE'] = pd.to_datetime(df_common.DATE + df_common.TIME, format = \"%Y%m%d%H%M%S\")\n",
    "df_common.set_index(pd.DatetimeIndex(df_common['DATE']), inplace=True)\n",
    "df_common.drop(columns=['TIME','DATE'],inplace = True)"
   ]
  },
  {
   "cell_type": "code",
   "execution_count": 3,
   "metadata": {},
   "outputs": [],
   "source": [
    "#Pref. stocks preprpcessing\n",
    "df_pref = pd.read_csv('SBERP_180801_190119_h.csv')\n",
    "\n",
    "df_pref.rename(columns={'<DATE>':'DATE', '<TIME>': 'TIME'}, inplace=True)\n",
    "df_pref.TIME = df_pref.TIME.astype(str)\n",
    "df_pref.DATE = df_pref.DATE.astype(str)\n",
    "\n",
    "df_pref['DATE'] = pd.to_datetime(df_pref.DATE+df_pref.TIME, format = \"%Y%m%d%H%M%S\")\n",
    "df_pref.set_index(pd.DatetimeIndex(df_pref['DATE']), inplace=True)\n",
    "df_pref.drop(columns=['TIME','DATE'],inplace = True)\n"
   ]
  },
  {
   "cell_type": "code",
   "execution_count": 4,
   "metadata": {},
   "outputs": [],
   "source": [
    "s1 = df_pref.loc[:,'<CLOSE>'].rename('close_pref')\n",
    "s2 = df_common.loc[:,'<CLOSE>'].rename('close_common')\n",
    "df_close = pd.concat([s1,s2], axis=1)"
   ]
  },
  {
   "cell_type": "code",
   "execution_count": 5,
   "metadata": {},
   "outputs": [
    {
     "name": "stdout",
     "output_type": "stream",
     "text": [
      "DatetimeIndex(['2018-08-01 13:20:00', '2018-08-07 13:15:00',\n",
      "               '2018-10-10 12:00:00', '2018-10-10 15:40:00',\n",
      "               '2018-10-16 13:30:00', '2018-10-16 13:40:00',\n",
      "               '2018-10-18 13:55:00', '2018-10-25 14:15:00'],\n",
      "              dtype='datetime64[ns]', name='DATE', freq=None)\n"
     ]
    }
   ],
   "source": [
    "pref_ind = df_pref.index\n",
    "com_ind = df_common.index\n",
    "s2.drop(com_ind.difference(pref_ind), inplace=True)\n",
    "print(com_ind.difference(pref_ind))"
   ]
  },
  {
   "cell_type": "code",
   "execution_count": null,
   "metadata": {},
   "outputs": [],
   "source": [
    "plt.figure(figsize=(15,9))\n",
    "ax1 = df_close.close_pref.plot(color='blue', grid=True, label='pref close')\n",
    "ax2 = df_close.close_common.plot(color='red', grid=True,  label='common close')\n",
    "\n",
    "h1, l1 = ax1.get_legend_handles_labels()\n",
    "h2, l2 = ax2.get_legend_handles_labels()\n",
    "\n",
    "\n",
    "plt.legend(h1+h2, l1+l2, loc=2)"
   ]
  },
  {
   "cell_type": "code",
   "execution_count": null,
   "metadata": {},
   "outputs": [],
   "source": [
    "spread = s2-s1\n",
    "\n",
    "plt.figure(figsize=(13,5))\n",
    "\n",
    "ax1 = pd.DataFrame(spread).plot(color='blue', grid=True, label = 'Spread')\n",
    "ax2 = rolling.plot(color='red')\n",
    "\n",
    "\n",
    "h1, l1 = ax1.get_legend_handles_labels()\n",
    "h2, l2 = ax2.get_legend_handles_labels()\n",
    "\n",
    "plt.axhline(y=spread.mean(), color='r', linestyle='-')\n",
    "\n",
    "plt.legend(h1+h2, l1+l2, loc=2)\n",
    "\n"
   ]
  },
  {
   "cell_type": "code",
   "execution_count": null,
   "metadata": {},
   "outputs": [],
   "source": [
    "rolling = pd.concat([spread,pd.DataFrame([spread[:i+1].mean() for i in range(len(spread))], index=spread.index)], axis=1)"
   ]
  },
  {
   "cell_type": "code",
   "execution_count": 6,
   "metadata": {},
   "outputs": [],
   "source": [
    "class coint_df_test:\n",
    "    \n",
    "    def __init__(self, close_1, close_2): # close_1, close_2 - must be pandas.Series\n",
    "        self.close_1 = close_1\n",
    "        self.close_2 = close_2\n",
    "    \n",
    "    def df_tests(self):\n",
    "        lr = LinearRegression(copy_X=True, fit_intercept=True, normalize=False)\n",
    "        lr.fit(self.close_1.values.reshape(-1,1), self.close_2.values)\n",
    "        y_hat1 = lr.coef_ * self.close_1 + lr.intercept_\n",
    "        res1 = self.close_2 - y_hat1\n",
    "        result1 = ts.adfuller(res1, 1)\n",
    "        lr.fit(self.close_2.values.reshape(-1,1), self.close_1.values)\n",
    "        y_hat2 = lr.coef_ * self.close_2 + lr.intercept_\n",
    "        res2 = self.close_1 - y_hat2\n",
    "        result2 = ts.adfuller(res2, 1)\n",
    "        \n",
    "        if (result1 < result2):\n",
    "            self.spread = res1\n",
    "        else:\n",
    "            self.spread = res2\n",
    "            \n",
    "    def get_spread(self):\n",
    "        return self.spread\n",
    "    \n",
    "    "
   ]
  },
  {
   "cell_type": "code",
   "execution_count": 7,
   "metadata": {},
   "outputs": [],
   "source": [
    "cft = coint_df_test(s1, s2)\n",
    "cft.df_tests()"
   ]
  },
  {
   "cell_type": "code",
   "execution_count": 12,
   "metadata": {},
   "outputs": [
    {
     "data": {
      "text/plain": [
       "<matplotlib.axes._subplots.AxesSubplot at 0x1bf8ae6a4a8>"
      ]
     },
     "execution_count": 12,
     "metadata": {},
     "output_type": "execute_result"
    },
    {
     "data": {
      "image/png": "[encoded data removed]",
      "text/plain": [
       "<Figure size 1080x576 with 1 Axes>"
      ]
     },
     "metadata": {},
     "output_type": "display_data"
    }
   ],
   "source": [
    "spread = cft.get_spread()\n",
    "spread.plot(grid=True, figsize=(15,8))"
   ]
  }
 ],
 "metadata": {
  "kernelspec": {
   "display_name": "Python 3",
   "language": "python",
   "name": "python3"
  },
  "language_info": {
   "codemirror_mode": {
    "name": "ipython",
    "version": 3
   },
   "file_extension": ".py",
   "mimetype": "text/x-python",
   "name": "python",
   "nbconvert_exporter": "python",
   "pygments_lexer": "ipython3",
   "version": "3.6.5"
  }
 },
 "nbformat": 4,
 "nbformat_minor": 2
}
